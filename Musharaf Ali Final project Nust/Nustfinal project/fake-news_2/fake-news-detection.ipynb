{
 "cells": [
  {
   "cell_type": "code",
   "execution_count": 2,
   "id": "5484ab65",
   "metadata": {
    "_cell_guid": "b1076dfc-b9ad-4769-8c92-a6c4dae69d19",
    "_uuid": "8f2839f25d086af736a60e9eeb907d3b93b6e0e5",
    "execution": {
     "iopub.execute_input": "2023-05-31T03:04:46.919570Z",
     "iopub.status.busy": "2023-05-31T03:04:46.919113Z",
     "iopub.status.idle": "2023-05-31T03:04:46.934880Z",
     "shell.execute_reply": "2023-05-31T03:04:46.933503Z"
    },
    "papermill": {
     "duration": 0.032749,
     "end_time": "2023-05-31T03:04:46.937353",
     "exception": false,
     "start_time": "2023-05-31T03:04:46.904604",
     "status": "completed"
    },
    "tags": []
   },
   "outputs": [],
   "source": [
    "# This Python 3 environment comes with many helpful analytics libraries installed\n",
    "# It is defined by the kaggle/python Docker image: https://github.com/kaggle/docker-python\n",
    "# For example, here's several helpful packages to load\n",
    "\n",
    "import numpy as np # linear algebra\n",
    "import pandas as pd # data processing, CSV file I/O (e.g. pd.read_csv)\n",
    "\n",
    "# Input data files are available in the read-only \"../input/\" directory\n",
    "\n",
    "import os\n",
    "for dirname, _, filenames in os.walk('/kaggle/input'):\n",
    "    for filename in filenames:\n",
    "        print(os.path.join(dirname, filename))\n",
    "\n",
    "# You can write up to 20GB to the current directory (/kaggle/working/) that gets preserved as output when you create a version using \"Save & Run All\" \n",
    "# You can also write temporary files to /kaggle/temp/, but they won't be saved outside of the current session"
   ]
  },
  {
   "cell_type": "code",
   "execution_count": 3,
   "id": "a8b5fcf3",
   "metadata": {
    "execution": {
     "iopub.execute_input": "2023-05-31T03:04:46.960576Z",
     "iopub.status.busy": "2023-05-31T03:04:46.960136Z",
     "iopub.status.idle": "2023-05-31T03:04:49.110750Z",
     "shell.execute_reply": "2023-05-31T03:04:49.109508Z"
    },
    "papermill": {
     "duration": 2.165072,
     "end_time": "2023-05-31T03:04:49.113328",
     "exception": false,
     "start_time": "2023-05-31T03:04:46.948256",
     "status": "completed"
    },
    "tags": []
   },
   "outputs": [
    {
     "name": "stderr",
     "output_type": "stream",
     "text": [
      "[nltk_data] Downloading package stopwords to\n",
      "[nltk_data]     C:\\Users\\hp\\AppData\\Roaming\\nltk_data...\n",
      "[nltk_data]   Package stopwords is already up-to-date!\n"
     ]
    }
   ],
   "source": [
    "import nltk\n",
    "nltk.download('stopwords')\n",
    "import re\n",
    "from nltk.corpus import stopwords\n",
    "from nltk.stem.porter import PorterStemmer\n",
    "from sklearn.feature_extraction.text import TfidfVectorizer\n",
    "from sklearn.model_selection import train_test_split\n",
    "from sklearn.linear_model import LogisticRegression\n",
    "from sklearn.metrics import accuracy_score"
   ]
  },
  {
   "cell_type": "code",
   "execution_count": 4,
   "id": "381dd2c7",
   "metadata": {
    "execution": {
     "iopub.execute_input": "2023-05-31T03:04:49.136869Z",
     "iopub.status.busy": "2023-05-31T03:04:49.136126Z",
     "iopub.status.idle": "2023-05-31T03:04:51.815663Z",
     "shell.execute_reply": "2023-05-31T03:04:51.814474Z"
    },
    "papermill": {
     "duration": 2.694478,
     "end_time": "2023-05-31T03:04:51.818462",
     "exception": false,
     "start_time": "2023-05-31T03:04:49.123984",
     "status": "completed"
    },
    "tags": []
   },
   "outputs": [],
   "source": [
    "df=pd.read_csv('train.csv')"
   ]
  },
  {
   "cell_type": "code",
   "execution_count": 5,
   "id": "85372236",
   "metadata": {
    "execution": {
     "iopub.execute_input": "2023-05-31T03:04:51.841029Z",
     "iopub.status.busy": "2023-05-31T03:04:51.840628Z",
     "iopub.status.idle": "2023-05-31T03:04:51.873903Z",
     "shell.execute_reply": "2023-05-31T03:04:51.872877Z"
    },
    "papermill": {
     "duration": 0.047604,
     "end_time": "2023-05-31T03:04:51.876590",
     "exception": false,
     "start_time": "2023-05-31T03:04:51.828986",
     "status": "completed"
    },
    "tags": []
   },
   "outputs": [
    {
     "data": {
      "text/html": [
       "<div>\n",
       "<style scoped>\n",
       "    .dataframe tbody tr th:only-of-type {\n",
       "        vertical-align: middle;\n",
       "    }\n",
       "\n",
       "    .dataframe tbody tr th {\n",
       "        vertical-align: top;\n",
       "    }\n",
       "\n",
       "    .dataframe thead th {\n",
       "        text-align: right;\n",
       "    }\n",
       "</style>\n",
       "<table border=\"1\" class=\"dataframe\">\n",
       "  <thead>\n",
       "    <tr style=\"text-align: right;\">\n",
       "      <th></th>\n",
       "      <th>id</th>\n",
       "      <th>title</th>\n",
       "      <th>author</th>\n",
       "      <th>text</th>\n",
       "      <th>label</th>\n",
       "    </tr>\n",
       "  </thead>\n",
       "  <tbody>\n",
       "    <tr>\n",
       "      <th>0</th>\n",
       "      <td>0</td>\n",
       "      <td>House Dem Aide: We Didn’t Even See Comey’s Let...</td>\n",
       "      <td>Darrell Lucus</td>\n",
       "      <td>House Dem Aide: We Didn’t Even See Comey’s Let...</td>\n",
       "      <td>1</td>\n",
       "    </tr>\n",
       "    <tr>\n",
       "      <th>1</th>\n",
       "      <td>1</td>\n",
       "      <td>FLYNN: Hillary Clinton, Big Woman on Campus - ...</td>\n",
       "      <td>Daniel J. Flynn</td>\n",
       "      <td>Ever get the feeling your life circles the rou...</td>\n",
       "      <td>0</td>\n",
       "    </tr>\n",
       "    <tr>\n",
       "      <th>2</th>\n",
       "      <td>2</td>\n",
       "      <td>Why the Truth Might Get You Fired</td>\n",
       "      <td>Consortiumnews.com</td>\n",
       "      <td>Why the Truth Might Get You Fired October 29, ...</td>\n",
       "      <td>1</td>\n",
       "    </tr>\n",
       "    <tr>\n",
       "      <th>3</th>\n",
       "      <td>3</td>\n",
       "      <td>15 Civilians Killed In Single US Airstrike Hav...</td>\n",
       "      <td>Jessica Purkiss</td>\n",
       "      <td>Videos 15 Civilians Killed In Single US Airstr...</td>\n",
       "      <td>1</td>\n",
       "    </tr>\n",
       "    <tr>\n",
       "      <th>4</th>\n",
       "      <td>4</td>\n",
       "      <td>Iranian woman jailed for fictional unpublished...</td>\n",
       "      <td>Howard Portnoy</td>\n",
       "      <td>Print \\nAn Iranian woman has been sentenced to...</td>\n",
       "      <td>1</td>\n",
       "    </tr>\n",
       "  </tbody>\n",
       "</table>\n",
       "</div>"
      ],
      "text/plain": [
       "   id                                              title              author  \\\n",
       "0   0  House Dem Aide: We Didn’t Even See Comey’s Let...       Darrell Lucus   \n",
       "1   1  FLYNN: Hillary Clinton, Big Woman on Campus - ...     Daniel J. Flynn   \n",
       "2   2                  Why the Truth Might Get You Fired  Consortiumnews.com   \n",
       "3   3  15 Civilians Killed In Single US Airstrike Hav...     Jessica Purkiss   \n",
       "4   4  Iranian woman jailed for fictional unpublished...      Howard Portnoy   \n",
       "\n",
       "                                                text  label  \n",
       "0  House Dem Aide: We Didn’t Even See Comey’s Let...      1  \n",
       "1  Ever get the feeling your life circles the rou...      0  \n",
       "2  Why the Truth Might Get You Fired October 29, ...      1  \n",
       "3  Videos 15 Civilians Killed In Single US Airstr...      1  \n",
       "4  Print \\nAn Iranian woman has been sentenced to...      1  "
      ]
     },
     "execution_count": 5,
     "metadata": {},
     "output_type": "execute_result"
    }
   ],
   "source": [
    "df.head()"
   ]
  },
  {
   "cell_type": "code",
   "execution_count": 7,
   "id": "b82e6a8c",
   "metadata": {
    "execution": {
     "iopub.execute_input": "2023-05-31T03:04:51.900336Z",
     "iopub.status.busy": "2023-05-31T03:04:51.899947Z",
     "iopub.status.idle": "2023-05-31T03:04:51.906875Z",
     "shell.execute_reply": "2023-05-31T03:04:51.905779Z"
    },
    "papermill": {
     "duration": 0.021312,
     "end_time": "2023-05-31T03:04:51.909035",
     "exception": false,
     "start_time": "2023-05-31T03:04:51.887723",
     "status": "completed"
    },
    "tags": []
   },
   "outputs": [
    {
     "data": {
      "text/plain": [
       "(20800, 5)"
      ]
     },
     "execution_count": 7,
     "metadata": {},
     "output_type": "execute_result"
    }
   ],
   "source": [
    "df.shape"
   ]
  },
  {
   "cell_type": "code",
   "execution_count": 8,
   "id": "987c0c2b",
   "metadata": {
    "execution": {
     "iopub.execute_input": "2023-05-31T03:04:51.933230Z",
     "iopub.status.busy": "2023-05-31T03:04:51.932819Z",
     "iopub.status.idle": "2023-05-31T03:04:51.966536Z",
     "shell.execute_reply": "2023-05-31T03:04:51.965478Z"
    },
    "papermill": {
     "duration": 0.048912,
     "end_time": "2023-05-31T03:04:51.969038",
     "exception": false,
     "start_time": "2023-05-31T03:04:51.920126",
     "status": "completed"
    },
    "tags": []
   },
   "outputs": [
    {
     "data": {
      "text/plain": [
       "id           0\n",
       "title      558\n",
       "author    1957\n",
       "text        39\n",
       "label        0\n",
       "dtype: int64"
      ]
     },
     "execution_count": 8,
     "metadata": {},
     "output_type": "execute_result"
    }
   ],
   "source": [
    "df.isna().sum()"
   ]
  },
  {
   "cell_type": "code",
   "execution_count": 9,
   "id": "f6955dd3",
   "metadata": {
    "execution": {
     "iopub.execute_input": "2023-05-31T03:04:51.993257Z",
     "iopub.status.busy": "2023-05-31T03:04:51.992882Z",
     "iopub.status.idle": "2023-05-31T03:04:52.004419Z",
     "shell.execute_reply": "2023-05-31T03:04:52.003481Z"
    },
    "papermill": {
     "duration": 0.026287,
     "end_time": "2023-05-31T03:04:52.006831",
     "exception": false,
     "start_time": "2023-05-31T03:04:51.980544",
     "status": "completed"
    },
    "tags": []
   },
   "outputs": [
    {
     "data": {
      "text/plain": [
       "1    10413\n",
       "0    10387\n",
       "Name: label, dtype: int64"
      ]
     },
     "execution_count": 9,
     "metadata": {},
     "output_type": "execute_result"
    }
   ],
   "source": [
    "df['label'].value_counts()"
   ]
  },
  {
   "cell_type": "code",
   "execution_count": null,
   "id": "d6577820",
   "metadata": {},
   "outputs": [],
   "source": []
  },
  {
   "cell_type": "code",
   "execution_count": 10,
   "id": "6d62a73c",
   "metadata": {
    "execution": {
     "iopub.execute_input": "2023-05-31T03:04:52.032329Z",
     "iopub.status.busy": "2023-05-31T03:04:52.030963Z",
     "iopub.status.idle": "2023-05-31T03:04:52.062443Z",
     "shell.execute_reply": "2023-05-31T03:04:52.061533Z"
    },
    "papermill": {
     "duration": 0.046804,
     "end_time": "2023-05-31T03:04:52.065177",
     "exception": false,
     "start_time": "2023-05-31T03:04:52.018373",
     "status": "completed"
    },
    "tags": []
   },
   "outputs": [],
   "source": [
    "# Replacing nulls with empty string\n",
    "df=df.fillna('')"
   ]
  },
  {
   "cell_type": "code",
   "execution_count": 11,
   "id": "916188fb",
   "metadata": {
    "execution": {
     "iopub.execute_input": "2023-05-31T03:04:52.089207Z",
     "iopub.status.busy": "2023-05-31T03:04:52.088818Z",
     "iopub.status.idle": "2023-05-31T03:04:52.106369Z",
     "shell.execute_reply": "2023-05-31T03:04:52.105170Z"
    },
    "papermill": {
     "duration": 0.032674,
     "end_time": "2023-05-31T03:04:52.108952",
     "exception": false,
     "start_time": "2023-05-31T03:04:52.076278",
     "status": "completed"
    },
    "tags": []
   },
   "outputs": [],
   "source": [
    "# merging the author name and news title\n",
    "df['content']=df['author']+' '+df['title']"
   ]
  },
  {
   "cell_type": "code",
   "execution_count": 12,
   "id": "76ae1bc5",
   "metadata": {
    "execution": {
     "iopub.execute_input": "2023-05-31T03:04:52.133079Z",
     "iopub.status.busy": "2023-05-31T03:04:52.132706Z",
     "iopub.status.idle": "2023-05-31T03:04:52.144965Z",
     "shell.execute_reply": "2023-05-31T03:04:52.143952Z"
    },
    "papermill": {
     "duration": 0.027213,
     "end_time": "2023-05-31T03:04:52.147210",
     "exception": false,
     "start_time": "2023-05-31T03:04:52.119997",
     "status": "completed"
    },
    "tags": []
   },
   "outputs": [
    {
     "data": {
      "text/html": [
       "<div>\n",
       "<style scoped>\n",
       "    .dataframe tbody tr th:only-of-type {\n",
       "        vertical-align: middle;\n",
       "    }\n",
       "\n",
       "    .dataframe tbody tr th {\n",
       "        vertical-align: top;\n",
       "    }\n",
       "\n",
       "    .dataframe thead th {\n",
       "        text-align: right;\n",
       "    }\n",
       "</style>\n",
       "<table border=\"1\" class=\"dataframe\">\n",
       "  <thead>\n",
       "    <tr style=\"text-align: right;\">\n",
       "      <th></th>\n",
       "      <th>id</th>\n",
       "      <th>title</th>\n",
       "      <th>author</th>\n",
       "      <th>text</th>\n",
       "      <th>label</th>\n",
       "      <th>content</th>\n",
       "    </tr>\n",
       "  </thead>\n",
       "  <tbody>\n",
       "    <tr>\n",
       "      <th>0</th>\n",
       "      <td>0</td>\n",
       "      <td>House Dem Aide: We Didn’t Even See Comey’s Let...</td>\n",
       "      <td>Darrell Lucus</td>\n",
       "      <td>House Dem Aide: We Didn’t Even See Comey’s Let...</td>\n",
       "      <td>1</td>\n",
       "      <td>Darrell Lucus House Dem Aide: We Didn’t Even S...</td>\n",
       "    </tr>\n",
       "    <tr>\n",
       "      <th>1</th>\n",
       "      <td>1</td>\n",
       "      <td>FLYNN: Hillary Clinton, Big Woman on Campus - ...</td>\n",
       "      <td>Daniel J. Flynn</td>\n",
       "      <td>Ever get the feeling your life circles the rou...</td>\n",
       "      <td>0</td>\n",
       "      <td>Daniel J. Flynn FLYNN: Hillary Clinton, Big Wo...</td>\n",
       "    </tr>\n",
       "    <tr>\n",
       "      <th>2</th>\n",
       "      <td>2</td>\n",
       "      <td>Why the Truth Might Get You Fired</td>\n",
       "      <td>Consortiumnews.com</td>\n",
       "      <td>Why the Truth Might Get You Fired October 29, ...</td>\n",
       "      <td>1</td>\n",
       "      <td>Consortiumnews.com Why the Truth Might Get You...</td>\n",
       "    </tr>\n",
       "    <tr>\n",
       "      <th>3</th>\n",
       "      <td>3</td>\n",
       "      <td>15 Civilians Killed In Single US Airstrike Hav...</td>\n",
       "      <td>Jessica Purkiss</td>\n",
       "      <td>Videos 15 Civilians Killed In Single US Airstr...</td>\n",
       "      <td>1</td>\n",
       "      <td>Jessica Purkiss 15 Civilians Killed In Single ...</td>\n",
       "    </tr>\n",
       "    <tr>\n",
       "      <th>4</th>\n",
       "      <td>4</td>\n",
       "      <td>Iranian woman jailed for fictional unpublished...</td>\n",
       "      <td>Howard Portnoy</td>\n",
       "      <td>Print \\nAn Iranian woman has been sentenced to...</td>\n",
       "      <td>1</td>\n",
       "      <td>Howard Portnoy Iranian woman jailed for fictio...</td>\n",
       "    </tr>\n",
       "  </tbody>\n",
       "</table>\n",
       "</div>"
      ],
      "text/plain": [
       "   id                                              title              author  \\\n",
       "0   0  House Dem Aide: We Didn’t Even See Comey’s Let...       Darrell Lucus   \n",
       "1   1  FLYNN: Hillary Clinton, Big Woman on Campus - ...     Daniel J. Flynn   \n",
       "2   2                  Why the Truth Might Get You Fired  Consortiumnews.com   \n",
       "3   3  15 Civilians Killed In Single US Airstrike Hav...     Jessica Purkiss   \n",
       "4   4  Iranian woman jailed for fictional unpublished...      Howard Portnoy   \n",
       "\n",
       "                                                text  label  \\\n",
       "0  House Dem Aide: We Didn’t Even See Comey’s Let...      1   \n",
       "1  Ever get the feeling your life circles the rou...      0   \n",
       "2  Why the Truth Might Get You Fired October 29, ...      1   \n",
       "3  Videos 15 Civilians Killed In Single US Airstr...      1   \n",
       "4  Print \\nAn Iranian woman has been sentenced to...      1   \n",
       "\n",
       "                                             content  \n",
       "0  Darrell Lucus House Dem Aide: We Didn’t Even S...  \n",
       "1  Daniel J. Flynn FLYNN: Hillary Clinton, Big Wo...  \n",
       "2  Consortiumnews.com Why the Truth Might Get You...  \n",
       "3  Jessica Purkiss 15 Civilians Killed In Single ...  \n",
       "4  Howard Portnoy Iranian woman jailed for fictio...  "
      ]
     },
     "execution_count": 12,
     "metadata": {},
     "output_type": "execute_result"
    }
   ],
   "source": [
    "df.head()"
   ]
  },
  {
   "cell_type": "code",
   "execution_count": 13,
   "id": "27824d6d",
   "metadata": {
    "execution": {
     "iopub.execute_input": "2023-05-31T03:04:52.172056Z",
     "iopub.status.busy": "2023-05-31T03:04:52.171680Z",
     "iopub.status.idle": "2023-05-31T03:04:52.186265Z",
     "shell.execute_reply": "2023-05-31T03:04:52.185136Z"
    },
    "papermill": {
     "duration": 0.029963,
     "end_time": "2023-05-31T03:04:52.188701",
     "exception": false,
     "start_time": "2023-05-31T03:04:52.158738",
     "status": "completed"
    },
    "tags": []
   },
   "outputs": [],
   "source": [
    "# seperating the data & label\n",
    "\n",
    "X=df.drop(columns='label',axis=1)\n",
    "Y=df['label']"
   ]
  },
  {
   "cell_type": "code",
   "execution_count": 14,
   "id": "3167785e",
   "metadata": {
    "execution": {
     "iopub.execute_input": "2023-05-31T03:04:52.213374Z",
     "iopub.status.busy": "2023-05-31T03:04:52.212949Z",
     "iopub.status.idle": "2023-05-31T03:04:52.225473Z",
     "shell.execute_reply": "2023-05-31T03:04:52.224069Z"
    },
    "papermill": {
     "duration": 0.027956,
     "end_time": "2023-05-31T03:04:52.228134",
     "exception": false,
     "start_time": "2023-05-31T03:04:52.200178",
     "status": "completed"
    },
    "tags": []
   },
   "outputs": [
    {
     "name": "stdout",
     "output_type": "stream",
     "text": [
      "          id                                              title  \\\n",
      "0          0  House Dem Aide: We Didn’t Even See Comey’s Let...   \n",
      "1          1  FLYNN: Hillary Clinton, Big Woman on Campus - ...   \n",
      "2          2                  Why the Truth Might Get You Fired   \n",
      "3          3  15 Civilians Killed In Single US Airstrike Hav...   \n",
      "4          4  Iranian woman jailed for fictional unpublished...   \n",
      "...      ...                                                ...   \n",
      "20795  20795  Rapper T.I.: Trump a ’Poster Child For White S...   \n",
      "20796  20796  N.F.L. Playoffs: Schedule, Matchups and Odds -...   \n",
      "20797  20797  Macy’s Is Said to Receive Takeover Approach by...   \n",
      "20798  20798  NATO, Russia To Hold Parallel Exercises In Bal...   \n",
      "20799  20799                          What Keeps the F-35 Alive   \n",
      "\n",
      "                                          author  \\\n",
      "0                                  Darrell Lucus   \n",
      "1                                Daniel J. Flynn   \n",
      "2                             Consortiumnews.com   \n",
      "3                                Jessica Purkiss   \n",
      "4                                 Howard Portnoy   \n",
      "...                                          ...   \n",
      "20795                              Jerome Hudson   \n",
      "20796                           Benjamin Hoffman   \n",
      "20797  Michael J. de la Merced and Rachel Abrams   \n",
      "20798                                Alex Ansary   \n",
      "20799                              David Swanson   \n",
      "\n",
      "                                                    text  \\\n",
      "0      House Dem Aide: We Didn’t Even See Comey’s Let...   \n",
      "1      Ever get the feeling your life circles the rou...   \n",
      "2      Why the Truth Might Get You Fired October 29, ...   \n",
      "3      Videos 15 Civilians Killed In Single US Airstr...   \n",
      "4      Print \\nAn Iranian woman has been sentenced to...   \n",
      "...                                                  ...   \n",
      "20795  Rapper T. I. unloaded on black celebrities who...   \n",
      "20796  When the Green Bay Packers lost to the Washing...   \n",
      "20797  The Macy’s of today grew from the union of sev...   \n",
      "20798  NATO, Russia To Hold Parallel Exercises In Bal...   \n",
      "20799    David Swanson is an author, activist, journa...   \n",
      "\n",
      "                                                 content  \n",
      "0      Darrell Lucus House Dem Aide: We Didn’t Even S...  \n",
      "1      Daniel J. Flynn FLYNN: Hillary Clinton, Big Wo...  \n",
      "2      Consortiumnews.com Why the Truth Might Get You...  \n",
      "3      Jessica Purkiss 15 Civilians Killed In Single ...  \n",
      "4      Howard Portnoy Iranian woman jailed for fictio...  \n",
      "...                                                  ...  \n",
      "20795  Jerome Hudson Rapper T.I.: Trump a ’Poster Chi...  \n",
      "20796  Benjamin Hoffman N.F.L. Playoffs: Schedule, Ma...  \n",
      "20797  Michael J. de la Merced and Rachel Abrams Macy...  \n",
      "20798  Alex Ansary NATO, Russia To Hold Parallel Exer...  \n",
      "20799            David Swanson What Keeps the F-35 Alive  \n",
      "\n",
      "[20800 rows x 5 columns]\n",
      "0        1\n",
      "1        0\n",
      "2        1\n",
      "3        1\n",
      "4        1\n",
      "        ..\n",
      "20795    0\n",
      "20796    0\n",
      "20797    0\n",
      "20798    1\n",
      "20799    1\n",
      "Name: label, Length: 20800, dtype: int64\n"
     ]
    }
   ],
   "source": [
    "print(X)\n",
    "print(Y)"
   ]
  },
  {
   "cell_type": "markdown",
   "id": "44924d9b",
   "metadata": {
    "papermill": {
     "duration": 0.011562,
     "end_time": "2023-05-31T03:04:52.251519",
     "exception": false,
     "start_time": "2023-05-31T03:04:52.239957",
     "status": "completed"
    },
    "tags": []
   },
   "source": [
    "### Stemming"
   ]
  },
  {
   "cell_type": "code",
   "execution_count": 15,
   "id": "8495013b",
   "metadata": {
    "execution": {
     "iopub.execute_input": "2023-05-31T03:04:52.276478Z",
     "iopub.status.busy": "2023-05-31T03:04:52.276065Z",
     "iopub.status.idle": "2023-05-31T03:04:52.280965Z",
     "shell.execute_reply": "2023-05-31T03:04:52.279897Z"
    },
    "papermill": {
     "duration": 0.020299,
     "end_time": "2023-05-31T03:04:52.283518",
     "exception": false,
     "start_time": "2023-05-31T03:04:52.263219",
     "status": "completed"
    },
    "tags": []
   },
   "outputs": [],
   "source": [
    "porter_stem= PorterStemmer()"
   ]
  },
  {
   "cell_type": "code",
   "execution_count": 16,
   "id": "df447e50",
   "metadata": {
    "execution": {
     "iopub.execute_input": "2023-05-31T03:04:52.309216Z",
     "iopub.status.busy": "2023-05-31T03:04:52.308448Z",
     "iopub.status.idle": "2023-05-31T03:04:52.315299Z",
     "shell.execute_reply": "2023-05-31T03:04:52.314203Z"
    },
    "papermill": {
     "duration": 0.022373,
     "end_time": "2023-05-31T03:04:52.317644",
     "exception": false,
     "start_time": "2023-05-31T03:04:52.295271",
     "status": "completed"
    },
    "tags": []
   },
   "outputs": [],
   "source": [
    "def stemming(content):\n",
    "  stemmed_content=re.sub('[^a-zA-Z]',' ',content)\n",
    "  stemmed_content=stemmed_content.lower()\n",
    "  stemmed_content=stemmed_content.split()\n",
    "  stemmed_content=[porter_stem.stem(word)for word in stemmed_content if not word in stopwords.words('english')]\n",
    "  stemmed_content=' '.join(stemmed_content)\n",
    "  return stemmed_content"
   ]
  },
  {
   "cell_type": "code",
   "execution_count": 17,
   "id": "eb059f1b",
   "metadata": {
    "execution": {
     "iopub.execute_input": "2023-05-31T03:04:52.342807Z",
     "iopub.status.busy": "2023-05-31T03:04:52.342381Z",
     "iopub.status.idle": "2023-05-31T03:05:42.536449Z",
     "shell.execute_reply": "2023-05-31T03:05:42.535249Z"
    },
    "papermill": {
     "duration": 50.210082,
     "end_time": "2023-05-31T03:05:42.539589",
     "exception": false,
     "start_time": "2023-05-31T03:04:52.329507",
     "status": "completed"
    },
    "tags": []
   },
   "outputs": [],
   "source": [
    "df['content']=df['content'].apply(stemming)"
   ]
  },
  {
   "cell_type": "code",
   "execution_count": 18,
   "id": "745c4ef4",
   "metadata": {
    "execution": {
     "iopub.execute_input": "2023-05-31T03:05:42.571337Z",
     "iopub.status.busy": "2023-05-31T03:05:42.570916Z",
     "iopub.status.idle": "2023-05-31T03:05:42.580850Z",
     "shell.execute_reply": "2023-05-31T03:05:42.579647Z"
    },
    "papermill": {
     "duration": 0.02759,
     "end_time": "2023-05-31T03:05:42.583522",
     "exception": false,
     "start_time": "2023-05-31T03:05:42.555932",
     "status": "completed"
    },
    "tags": []
   },
   "outputs": [
    {
     "data": {
      "text/plain": [
       "0        darrel lucu hous dem aid even see comey letter...\n",
       "1        daniel j flynn flynn hillari clinton big woman...\n",
       "2                   consortiumnew com truth might get fire\n",
       "3        jessica purkiss civilian kill singl us airstri...\n",
       "4        howard portnoy iranian woman jail fiction unpu...\n",
       "                               ...                        \n",
       "20795    jerom hudson rapper trump poster child white s...\n",
       "20796    benjamin hoffman n f l playoff schedul matchup...\n",
       "20797    michael j de la merc rachel abram maci said re...\n",
       "20798    alex ansari nato russia hold parallel exercis ...\n",
       "20799                            david swanson keep f aliv\n",
       "Name: content, Length: 20800, dtype: object"
      ]
     },
     "execution_count": 18,
     "metadata": {},
     "output_type": "execute_result"
    }
   ],
   "source": [
    "df['content']"
   ]
  },
  {
   "cell_type": "code",
   "execution_count": 20,
   "id": "e7194264",
   "metadata": {
    "execution": {
     "iopub.execute_input": "2023-05-31T03:05:42.609166Z",
     "iopub.status.busy": "2023-05-31T03:05:42.608525Z",
     "iopub.status.idle": "2023-05-31T03:05:42.616653Z",
     "shell.execute_reply": "2023-05-31T03:05:42.615779Z"
    },
    "papermill": {
     "duration": 0.023795,
     "end_time": "2023-05-31T03:05:42.618991",
     "exception": false,
     "start_time": "2023-05-31T03:05:42.595196",
     "status": "completed"
    },
    "tags": []
   },
   "outputs": [],
   "source": [
    "# seperating the data and label\n",
    "\n",
    "X=df['content'].values\n",
    "Y=df['label'].values"
   ]
  },
  {
   "cell_type": "code",
   "execution_count": 21,
   "id": "40bf9e7a",
   "metadata": {
    "execution": {
     "iopub.execute_input": "2023-05-31T03:05:42.644375Z",
     "iopub.status.busy": "2023-05-31T03:05:42.643735Z",
     "iopub.status.idle": "2023-05-31T03:05:42.649868Z",
     "shell.execute_reply": "2023-05-31T03:05:42.648791Z"
    },
    "papermill": {
     "duration": 0.021448,
     "end_time": "2023-05-31T03:05:42.652118",
     "exception": false,
     "start_time": "2023-05-31T03:05:42.630670",
     "status": "completed"
    },
    "tags": []
   },
   "outputs": [
    {
     "name": "stdout",
     "output_type": "stream",
     "text": [
      "['darrel lucu hous dem aid even see comey letter jason chaffetz tweet'\n",
      " 'daniel j flynn flynn hillari clinton big woman campu breitbart'\n",
      " 'consortiumnew com truth might get fire' ...\n",
      " 'michael j de la merc rachel abram maci said receiv takeov approach hudson bay new york time'\n",
      " 'alex ansari nato russia hold parallel exercis balkan'\n",
      " 'david swanson keep f aliv']\n",
      "[1 0 1 ... 0 1 1]\n"
     ]
    }
   ],
   "source": [
    "print(X)\n",
    "print(Y)"
   ]
  },
  {
   "cell_type": "code",
   "execution_count": 22,
   "id": "e7ed7e75",
   "metadata": {
    "execution": {
     "iopub.execute_input": "2023-05-31T03:05:42.677943Z",
     "iopub.status.busy": "2023-05-31T03:05:42.677020Z",
     "iopub.status.idle": "2023-05-31T03:05:43.472477Z",
     "shell.execute_reply": "2023-05-31T03:05:43.471490Z"
    },
    "papermill": {
     "duration": 0.811397,
     "end_time": "2023-05-31T03:05:43.475378",
     "exception": false,
     "start_time": "2023-05-31T03:05:42.663981",
     "status": "completed"
    },
    "tags": []
   },
   "outputs": [],
   "source": [
    "# converting the textual data to numeric data\n",
    "vectorizer= TfidfVectorizer()\n",
    "vectorizer.fit(X)\n",
    "\n",
    "X=vectorizer.transform(X)\n"
   ]
  },
  {
   "cell_type": "code",
   "execution_count": 23,
   "id": "a3e965db",
   "metadata": {
    "execution": {
     "iopub.execute_input": "2023-05-31T03:05:43.501421Z",
     "iopub.status.busy": "2023-05-31T03:05:43.501026Z",
     "iopub.status.idle": "2023-05-31T03:05:43.509899Z",
     "shell.execute_reply": "2023-05-31T03:05:43.508803Z"
    },
    "papermill": {
     "duration": 0.025983,
     "end_time": "2023-05-31T03:05:43.513281",
     "exception": false,
     "start_time": "2023-05-31T03:05:43.487298",
     "status": "completed"
    },
    "tags": []
   },
   "outputs": [
    {
     "name": "stdout",
     "output_type": "stream",
     "text": [
      "  (0, 15686)\t0.28485063562728646\n",
      "  (0, 13473)\t0.2565896679337957\n",
      "  (0, 8909)\t0.3635963806326075\n",
      "  (0, 8630)\t0.29212514087043684\n",
      "  (0, 7692)\t0.24785219520671603\n",
      "  (0, 7005)\t0.21874169089359144\n",
      "  (0, 4973)\t0.233316966909351\n",
      "  (0, 3792)\t0.2705332480845492\n",
      "  (0, 3600)\t0.3598939188262559\n",
      "  (0, 2959)\t0.2468450128533713\n",
      "  (0, 2483)\t0.3676519686797209\n",
      "  (0, 267)\t0.27010124977708766\n",
      "  (1, 16799)\t0.30071745655510157\n",
      "  (1, 6816)\t0.1904660198296849\n",
      "  (1, 5503)\t0.7143299355715573\n",
      "  (1, 3568)\t0.26373768806048464\n",
      "  (1, 2813)\t0.19094574062359204\n",
      "  (1, 2223)\t0.3827320386859759\n",
      "  (1, 1894)\t0.15521974226349364\n",
      "  (1, 1497)\t0.2939891562094648\n",
      "  (2, 15611)\t0.41544962664721613\n",
      "  (2, 9620)\t0.49351492943649944\n",
      "  (2, 5968)\t0.3474613386728292\n",
      "  (2, 5389)\t0.3866530551182615\n",
      "  (2, 3103)\t0.46097489583229645\n",
      "  :\t:\n",
      "  (20797, 13122)\t0.2482526352197606\n",
      "  (20797, 12344)\t0.27263457663336677\n",
      "  (20797, 12138)\t0.24778257724396507\n",
      "  (20797, 10306)\t0.08038079000566466\n",
      "  (20797, 9588)\t0.174553480255222\n",
      "  (20797, 9518)\t0.2954204003420313\n",
      "  (20797, 8988)\t0.36160868928090795\n",
      "  (20797, 8364)\t0.22322585870464118\n",
      "  (20797, 7042)\t0.21799048897828688\n",
      "  (20797, 3643)\t0.21155500613623743\n",
      "  (20797, 1287)\t0.33538056804139865\n",
      "  (20797, 699)\t0.30685846079762347\n",
      "  (20797, 43)\t0.29710241860700626\n",
      "  (20798, 13046)\t0.22363267488270608\n",
      "  (20798, 11052)\t0.4460515589182236\n",
      "  (20798, 10177)\t0.3192496370187028\n",
      "  (20798, 6889)\t0.32496285694299426\n",
      "  (20798, 5032)\t0.4083701450239529\n",
      "  (20798, 1125)\t0.4460515589182236\n",
      "  (20798, 588)\t0.3112141524638974\n",
      "  (20798, 350)\t0.28446937819072576\n",
      "  (20799, 14852)\t0.5677577267055112\n",
      "  (20799, 8036)\t0.45983893273780013\n",
      "  (20799, 3623)\t0.37927626273066584\n",
      "  (20799, 377)\t0.5677577267055112\n"
     ]
    }
   ],
   "source": [
    "print(X)"
   ]
  },
  {
   "cell_type": "markdown",
   "id": "e925e3f1",
   "metadata": {
    "papermill": {
     "duration": 0.011769,
     "end_time": "2023-05-31T03:05:43.537307",
     "exception": false,
     "start_time": "2023-05-31T03:05:43.525538",
     "status": "completed"
    },
    "tags": []
   },
   "source": [
    "### Splitting the dataset to training & test data"
   ]
  },
  {
   "cell_type": "code",
   "execution_count": 27,
   "id": "8ceced43",
   "metadata": {
    "execution": {
     "iopub.execute_input": "2023-05-31T03:05:43.564665Z",
     "iopub.status.busy": "2023-05-31T03:05:43.563611Z",
     "iopub.status.idle": "2023-05-31T03:05:43.583443Z",
     "shell.execute_reply": "2023-05-31T03:05:43.582410Z"
    },
    "papermill": {
     "duration": 0.036236,
     "end_time": "2023-05-31T03:05:43.586198",
     "exception": false,
     "start_time": "2023-05-31T03:05:43.549962",
     "status": "completed"
    },
    "tags": []
   },
   "outputs": [],
   "source": [
    "X_train,X_test,Y_train,Y_test=train_test_split(X,Y, test_size=0.2,stratify=Y, random_state=2)"
   ]
  },
  {
   "cell_type": "markdown",
   "id": "37526383",
   "metadata": {
    "papermill": {
     "duration": 0.011685,
     "end_time": "2023-05-31T03:05:43.609929",
     "exception": false,
     "start_time": "2023-05-31T03:05:43.598244",
     "status": "completed"
    },
    "tags": []
   },
   "source": [
    "### Training with logistic regression\n",
    "\n",
    "\n",
    "\n"
   ]
  },
  {
   "cell_type": "code",
   "execution_count": 28,
   "id": "c0c88ce4",
   "metadata": {
    "execution": {
     "iopub.execute_input": "2023-05-31T03:05:43.635520Z",
     "iopub.status.busy": "2023-05-31T03:05:43.635100Z",
     "iopub.status.idle": "2023-05-31T03:05:43.640174Z",
     "shell.execute_reply": "2023-05-31T03:05:43.638994Z"
    },
    "papermill": {
     "duration": 0.021001,
     "end_time": "2023-05-31T03:05:43.642818",
     "exception": false,
     "start_time": "2023-05-31T03:05:43.621817",
     "status": "completed"
    },
    "tags": []
   },
   "outputs": [],
   "source": [
    "model=LogisticRegression()"
   ]
  },
  {
   "cell_type": "code",
   "execution_count": 29,
   "id": "0430077c",
   "metadata": {
    "execution": {
     "iopub.execute_input": "2023-05-31T03:05:43.669378Z",
     "iopub.status.busy": "2023-05-31T03:05:43.669003Z",
     "iopub.status.idle": "2023-05-31T03:05:44.209723Z",
     "shell.execute_reply": "2023-05-31T03:05:44.208235Z"
    },
    "papermill": {
     "duration": 0.558774,
     "end_time": "2023-05-31T03:05:44.213780",
     "exception": false,
     "start_time": "2023-05-31T03:05:43.655006",
     "status": "completed"
    },
    "tags": []
   },
   "outputs": [
    {
     "data": {
      "text/plain": [
       "LogisticRegression()"
      ]
     },
     "execution_count": 29,
     "metadata": {},
     "output_type": "execute_result"
    }
   ],
   "source": [
    "model.fit(X_train,Y_train)"
   ]
  },
  {
   "cell_type": "markdown",
   "id": "75899e42",
   "metadata": {
    "papermill": {
     "duration": 0.045226,
     "end_time": "2023-05-31T03:05:44.302907",
     "exception": false,
     "start_time": "2023-05-31T03:05:44.257681",
     "status": "completed"
    },
    "tags": []
   },
   "source": [
    "### Evaluation  using accuracy score"
   ]
  },
  {
   "cell_type": "code",
   "execution_count": 30,
   "id": "33291c7e",
   "metadata": {
    "execution": {
     "iopub.execute_input": "2023-05-31T03:05:44.330910Z",
     "iopub.status.busy": "2023-05-31T03:05:44.329529Z",
     "iopub.status.idle": "2023-05-31T03:05:44.339140Z",
     "shell.execute_reply": "2023-05-31T03:05:44.338097Z"
    },
    "papermill": {
     "duration": 0.026269,
     "end_time": "2023-05-31T03:05:44.341694",
     "exception": false,
     "start_time": "2023-05-31T03:05:44.315425",
     "status": "completed"
    },
    "tags": []
   },
   "outputs": [],
   "source": [
    "# accuracy score on the training data\n",
    "\n",
    "X_train_prediction = model.predict(X_train)\n",
    "training_data_accuracy = accuracy_score(X_train_prediction, Y_train)"
   ]
  },
  {
   "cell_type": "code",
   "execution_count": 31,
   "id": "d556253c",
   "metadata": {
    "execution": {
     "iopub.execute_input": "2023-05-31T03:05:44.368100Z",
     "iopub.status.busy": "2023-05-31T03:05:44.367719Z",
     "iopub.status.idle": "2023-05-31T03:05:44.373111Z",
     "shell.execute_reply": "2023-05-31T03:05:44.372084Z"
    },
    "papermill": {
     "duration": 0.022232,
     "end_time": "2023-05-31T03:05:44.376119",
     "exception": false,
     "start_time": "2023-05-31T03:05:44.353887",
     "status": "completed"
    },
    "tags": []
   },
   "outputs": [
    {
     "name": "stdout",
     "output_type": "stream",
     "text": [
      "Accuracy score of the training data: 0.9865985576923076\n"
     ]
    }
   ],
   "source": [
    "print('Accuracy score of the training data:',training_data_accuracy)"
   ]
  },
  {
   "cell_type": "code",
   "execution_count": 32,
   "id": "b6228f6a",
   "metadata": {
    "execution": {
     "iopub.execute_input": "2023-05-31T03:05:44.402202Z",
     "iopub.status.busy": "2023-05-31T03:05:44.401839Z",
     "iopub.status.idle": "2023-05-31T03:05:44.408790Z",
     "shell.execute_reply": "2023-05-31T03:05:44.407802Z"
    },
    "papermill": {
     "duration": 0.022715,
     "end_time": "2023-05-31T03:05:44.411179",
     "exception": false,
     "start_time": "2023-05-31T03:05:44.388464",
     "status": "completed"
    },
    "tags": []
   },
   "outputs": [],
   "source": [
    "# accuracy score on the test data\n",
    "X_test_prediction = model.predict(X_test)\n",
    "test_data_accuracy = accuracy_score(X_test_prediction, Y_test)"
   ]
  },
  {
   "cell_type": "code",
   "execution_count": 33,
   "id": "eb727180",
   "metadata": {
    "execution": {
     "iopub.execute_input": "2023-05-31T03:05:44.437697Z",
     "iopub.status.busy": "2023-05-31T03:05:44.437260Z",
     "iopub.status.idle": "2023-05-31T03:05:44.442686Z",
     "shell.execute_reply": "2023-05-31T03:05:44.441524Z"
    },
    "papermill": {
     "duration": 0.021948,
     "end_time": "2023-05-31T03:05:44.445487",
     "exception": false,
     "start_time": "2023-05-31T03:05:44.423539",
     "status": "completed"
    },
    "tags": []
   },
   "outputs": [
    {
     "name": "stdout",
     "output_type": "stream",
     "text": [
      "Accuracy score of the test data :  0.9790865384615385\n"
     ]
    }
   ],
   "source": [
    "print('Accuracy score of the test data : ', test_data_accuracy)"
   ]
  },
  {
   "cell_type": "markdown",
   "id": "30e62235",
   "metadata": {
    "papermill": {
     "duration": 0.012074,
     "end_time": "2023-05-31T03:05:44.470200",
     "exception": false,
     "start_time": "2023-05-31T03:05:44.458126",
     "status": "completed"
    },
    "tags": []
   },
   "source": [
    "### Making a predictive system"
   ]
  },
  {
   "cell_type": "code",
   "execution_count": 46,
   "id": "65dc9163",
   "metadata": {
    "execution": {
     "iopub.execute_input": "2023-05-31T03:05:44.497281Z",
     "iopub.status.busy": "2023-05-31T03:05:44.496121Z",
     "iopub.status.idle": "2023-05-31T03:05:44.505027Z",
     "shell.execute_reply": "2023-05-31T03:05:44.503926Z"
    },
    "papermill": {
     "duration": 0.024727,
     "end_time": "2023-05-31T03:05:44.507278",
     "exception": false,
     "start_time": "2023-05-31T03:05:44.482551",
     "status": "completed"
    },
    "tags": []
   },
   "outputs": [
    {
     "name": "stdout",
     "output_type": "stream",
     "text": [
      "The news is Real\n"
     ]
    }
   ],
   "source": [
    "X_new=X_test[1]\n",
    "import pandas as pd\n",
    "\n",
    "\n",
    "prediction=model.predict(X_new)\n",
    "\n",
    "if (prediction[0]==0):\n",
    "  print('The news is Real')\n",
    "else:\n",
    "  print('The news is fake')"
   ]
  },
  {
   "cell_type": "code",
   "execution_count": 51,
   "id": "60d3b560",
   "metadata": {
    "papermill": {
     "duration": 0.012124,
     "end_time": "2023-05-31T03:05:44.531912",
     "exception": false,
     "start_time": "2023-05-31T03:05:44.519788",
     "status": "completed"
    },
    "tags": []
   },
   "outputs": [
    {
     "name": "stdout",
     "output_type": "stream",
     "text": [
      "The news is Fake\n"
     ]
    }
   ],
   "source": [
    "from sklearn.feature_extraction.text import TfidfVectorizer\n",
    "\n",
    "# Assuming vectorizer is the TF-IDF vectorizer used during training\n",
    "X_new_text = [\"i am liaqat\"]\n",
    "\n",
    "# Transform the text data using the same vectorizer\n",
    "X_new_vectorized = vectorizer.transform(X_new_text)\n",
    "\n",
    "# Make predictions\n",
    "prediction = model.predict(X_new_vectorized)\n",
    "\n",
    "if prediction[0] == 0:\n",
    "    print('The news is Real')\n",
    "else:\n",
    "    print('The news is Fake')\n"
   ]
  },
  {
   "cell_type": "code",
   "execution_count": null,
   "id": "3702a183",
   "metadata": {},
   "outputs": [],
   "source": []
  }
 ],
 "metadata": {
  "kernelspec": {
   "display_name": "Python 3 (ipykernel)",
   "language": "python",
   "name": "python3"
  },
  "language_info": {
   "codemirror_mode": {
    "name": "ipython",
    "version": 3
   },
   "file_extension": ".py",
   "mimetype": "text/x-python",
   "name": "python",
   "nbconvert_exporter": "python",
   "pygments_lexer": "ipython3",
   "version": "3.9.13"
  },
  "papermill": {
   "default_parameters": {},
   "duration": 73.009613,
   "end_time": "2023-05-31T03:05:45.668568",
   "environment_variables": {},
   "exception": null,
   "input_path": "__notebook__.ipynb",
   "output_path": "__notebook__.ipynb",
   "parameters": {},
   "start_time": "2023-05-31T03:04:32.658955",
   "version": "2.4.0"
  }
 },
 "nbformat": 4,
 "nbformat_minor": 5
}
